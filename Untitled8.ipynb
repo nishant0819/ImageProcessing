{
 "cells": [
  {
   "cell_type": "code",
   "execution_count": 1,
   "metadata": {},
   "outputs": [],
   "source": [
    "from PIL import Image\n",
    "import pytesseract, re"
   ]
  },
  {
   "cell_type": "code",
   "execution_count": 5,
   "metadata": {},
   "outputs": [],
   "source": [
    "f = r\"C:\\Users\\91836\\Desktop\\Testing.jpg\"\n",
    "#This image file is converted from the pdf given in question 3"
   ]
  },
  {
   "cell_type": "code",
   "execution_count": 6,
   "metadata": {},
   "outputs": [],
   "source": [
    "t = pytesseract.image_to_string(Image.open(f))"
   ]
  },
  {
   "cell_type": "code",
   "execution_count": 8,
   "metadata": {},
   "outputs": [],
   "source": [
    "x=t.replace(\"\\n\", \" \")"
   ]
  },
  {
   "cell_type": "code",
   "execution_count": 9,
   "metadata": {},
   "outputs": [],
   "source": [
    "m=(re.findall(\"Tumkur Road  AVAILABLE. INDUSTRIAL/ Warehouse. Nelamangala Dobespet. 1 to 100 acres, 1000 to 1,00,000 saft. NAIK: 9141326819\", x))"
   ]
  },
  {
   "cell_type": "code",
   "execution_count": 10,
   "metadata": {},
   "outputs": [
    {
     "name": "stdout",
     "output_type": "stream",
     "text": [
      "Tumkur Road  AVAILABLE. INDUSTRIAL/ Warehouse. Nelamangala Dobespet. 1 to 100 acres, 1000 to 1,00,000 saft. NAIK: 9141326819\n"
     ]
    }
   ],
   "source": [
    "if m:\n",
    "    print(m[0])"
   ]
  }
 ],
 "metadata": {
  "kernelspec": {
   "display_name": "Python 3",
   "language": "python",
   "name": "python3"
  },
  "language_info": {
   "codemirror_mode": {
    "name": "ipython",
    "version": 3
   },
   "file_extension": ".py",
   "mimetype": "text/x-python",
   "name": "python",
   "nbconvert_exporter": "python",
   "pygments_lexer": "ipython3",
   "version": "3.7.4"
  }
 },
 "nbformat": 4,
 "nbformat_minor": 2
}
